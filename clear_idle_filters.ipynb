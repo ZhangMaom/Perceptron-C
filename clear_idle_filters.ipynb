{
 "cells": [
  {
   "cell_type": "code",
   "execution_count": null,
   "metadata": {},
   "outputs": [],
   "source": [
    "import caffe\n",
    "import numpy as np"
   ]
  },
  {
   "cell_type": "code",
   "execution_count": null,
   "metadata": {},
   "outputs": [],
   "source": [
    "net = caffe.Net(\"./models/no_bn/TestModel.prototxt\", \"./models/no_bn/TestModel.caffemodel\", caffe.TEST)"
   ]
  },
  {
   "cell_type": "code",
   "execution_count": null,
   "metadata": {},
   "outputs": [],
   "source": [
    "class Pruner(object):\n",
    "    def __init__(self, net):\n",
    "        self._net = net\n",
    "        self.conv_data = {}\n",
    "        \n",
    "    def _prune(self, conv_param, del_kernels=None, not_del_filters=False):\n",
    "        weight, bias = conv_param\n",
    "        weight = weight.data\n",
    "        bias = bias.data\n",
    "        origin_channels = weight.shape[0]\n",
    "        \n",
    "        # delete filters\n",
    "        if not not_del_filters:\n",
    "            abs_mean = np.abs(weight).mean(axis=(1,2,3))\n",
    "            del_filters = np.argmin(abs_mean)\n",
    "            weight = np.delete(weight, del_filters, axis=0)\n",
    "            bias = np.delete(bias, del_filters, axis=0)\n",
    "        else:\n",
    "            del_filters = np.array([])\n",
    "        \n",
    "        # delete kernels\n",
    "        if del_kernels is not None:\n",
    "            weight = np.delete(weight, del_kernels, axis=1)\n",
    "            \n",
    "        return weight, bias, del_filters, origin_channels\n",
    "    \n",
    "    def prune_conv(self, name, bottom=None):\n",
    "        if bottom is None:\n",
    "            self.conv_data[name] = self._prune(self._net.params[name])\n",
    "        else:\n",
    "            self.conv_data[name] = self._prune(self._net.params[name], self.conv_data[bottom][2])\n",
    "            \n",
    "    def prune_concat(self, name, bottoms):\n",
    "        offsets = [0] + [self.conv_data[b][3] for b in bottoms]\n",
    "        for i in range(1, len(offsets)):\n",
    "            offsets[i] += offsets[i-1]\n",
    "        del_filters = [self.conv_data[b][2] + offsets[i] for i, b in enumerate(bottoms)]\n",
    "        del_filters_new = np.concatenate(del_filters)\n",
    "        self.conv_data[name] = self._prune(self._net.params[name], del_filters_new, not_del_filters=True)\n",
    "        \n",
    "    def save(self, new_model, output_weights):\n",
    "        net2 = caffe.Net(new_model, caffe.TEST)\n",
    "        for key in net2.params.keys():\n",
    "            if key in self.conv_data:\n",
    "                net2.params[key][0].data[...] = self.conv_data[key][0]\n",
    "                net2.params[key][1].data[...] = self.conv_data[key][1]\n",
    "            else:\n",
    "                net2.params[key][0].data[...] = net.params[key][0].data\n",
    "                net2.params[key][1].data[...] = net.params[key][1].data\n",
    "        net2.save(output_weights)"
   ]
  },
  {
   "cell_type": "code",
   "execution_count": null,
   "metadata": {},
   "outputs": [],
   "source": [
    "pruner = Pruner(net)"
   ]
  },
  {
   "cell_type": "code",
   "execution_count": null,
   "metadata": {},
   "outputs": [],
   "source": [
    "pruner.prune_conv(\"conv1_1_1\")\n",
    "pruner.prune_conv(\"conv1_2_1\")\n",
    "pruner.prune_conv(\"conv1_2_2\", \"conv1_2_1\")\n",
    "pruner.prune_conv(\"conv1_3_1\")\n",
    "pruner.prune_conv(\"conv1_3_2\", \"conv1_3_1\")\n",
    "pruner.prune_conv(\"conv1_3_3\", \"conv1_3_2\")"
   ]
  },
  {
   "cell_type": "code",
   "execution_count": null,
   "metadata": {},
   "outputs": [],
   "source": [
    "pruner.prune_concat(\"conv2_1\", (\"conv1_1_1\", \"conv1_2_2\", \"conv1_3_3\"))\n",
    "pruner.prune_conv(\"conv2_2\", \"conv2_1\")\n",
    "pruner.prune_conv(\"conv2_3\", \"conv2_2\")\n",
    "pruner.prune_conv(\"conv2_4\", \"conv2_3\")\n",
    "pruner.prune_conv(\"conv2_5\", \"conv2_4\")\n",
    "pruner.prune_conv(\"conv2_6\", \"conv2_5\")\n",
    "pruner.prune_conv(\"conv2_7\", \"conv2_6\")\n",
    "pruner.prune_conv(\"conv2_8\", \"conv2_7\")"
   ]
  },
  {
   "cell_type": "code",
   "execution_count": null,
   "metadata": {},
   "outputs": [],
   "source": [
    "pruner.prune_concat(\"conv3_1_1\", (\"conv2_2\", \"conv2_4\", \"conv2_6\", \"conv2_8\"))\n",
    "pruner.prune_concat(\"conv3_1_1b\", (\"conv2_2\", \"conv2_4\", \"conv2_6\", \"conv2_8\"))"
   ]
  },
  {
   "cell_type": "code",
   "execution_count": null,
   "metadata": {
    "scrolled": true
   },
   "outputs": [],
   "source": [
    "[(k, v[0].shape[0]) for k, v in pruner.conv_data.items() if v[0] is not None]"
   ]
  },
  {
   "cell_type": "code",
   "execution_count": null,
   "metadata": {},
   "outputs": [],
   "source": [
    "# You should modify the number of channels in new prototxt before save\n",
    "pruner.save(\"./models/clear_idle_filters/TestModel.prototxt\", \"./models/clear_idle_filters/TestModel.caffemodel\")"
   ]
  },
  {
   "cell_type": "code",
   "execution_count": null,
   "metadata": {},
   "outputs": [],
   "source": []
  },
  {
   "cell_type": "code",
   "execution_count": null,
   "metadata": {},
   "outputs": [],
   "source": []
  }
 ],
 "metadata": {
  "kernelspec": {
   "display_name": "Python 3",
   "language": "python",
   "name": "python3"
  },
  "language_info": {
   "codemirror_mode": {
    "name": "ipython",
    "version": 3
   },
   "file_extension": ".py",
   "mimetype": "text/x-python",
   "name": "python",
   "nbconvert_exporter": "python",
   "pygments_lexer": "ipython3",
   "version": "3.7.1"
  }
 },
 "nbformat": 4,
 "nbformat_minor": 2
}
